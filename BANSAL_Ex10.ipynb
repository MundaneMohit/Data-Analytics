{
 "cells": [
  {
   "cell_type": "markdown",
   "metadata": {},
   "source": [
    "# Lab Course: Distributed Data Analytics Exercise Sheet 10\n",
    "**Submitted by: Mohit Bansal**\n",
    "\n",
    "**Student ID: 279314**"
   ]
  },
  {
   "cell_type": "markdown",
   "metadata": {},
   "source": [
    "### Exercise 1: Recommender System from scratch ( 10 points)\n",
    "\n",
    "In this exercise we supposed to implement matrices factorization technique for recommendation system and we will be starting by explanation of how this thing work.\n",
    "\n",
    "Most MF models are based on the latent factor model. It is the most accurate approach to reducing the problem of sparsity in the database of a recommendation system, some studies have used techniques for reducing dimensionality. Singular Value Decomposition (SVD) and Principal Component Analysis (PCA) are well-established techniques for identifying latent factors in the field of information retrieval to address the challenges of filtering.\n",
    "Collaborative (FC)\n",
    "\n",
    "First, we have a set of users U and a set of items I. Let X be the size matrix (m x n) that contains all the notes that the users assigned to the articles (rating matrix). Now, the latent characteristics would be discovered.\n",
    "\n",
    "Our task is therefore to find two matrices, P (m x f) and Q (f x n) f is the latent factor (a positive integer such that f <m x n), so their product is roughly equivalent to R (m x n)\n",
    "\n",
    " In this way, matrix factorization models map users and elements into a joint latent factor space of dimensionality f, interactions with user elements are modeled as internal products in that space.\n",
    "We have trained the problem this way:\n",
    "\n",
    "\n",
    "\n",
    "#### Step 1: Import Libraries"
   ]
  },
  {
   "cell_type": "code",
   "execution_count": 7,
   "metadata": {},
   "outputs": [],
   "source": [
    "from pyspark.sql import SparkSession, SQLContext\n",
    "from pyspark.sql.functions import col\n",
    "import numpy as np\n",
    "from pyspark.sql.functions import countDistinct, udf, lit\n",
    "import pandas as pd\n",
    "from pyspark.sql.functions import rand\n",
    "\n",
    "spark = SparkSession \\\n",
    "         .builder \\\n",
    "         .appName(\"Python Spark - Testing the Waters\") \\\n",
    "         .config(\"spark.some.config.option\", \"some-value\") \\\n",
    "         .getOrCreate()\n",
    " \n",
    "sc = spark.sparkContext\n",
    "sqlCtx = SQLContext(sc)"
   ]
  },
  {
   "cell_type": "markdown",
   "metadata": {},
   "source": [
    "#### Step 2: Read Data\n",
    "\n",
    "Read the ratings.dat dataset"
   ]
  },
  {
   "cell_type": "code",
   "execution_count": 10,
   "metadata": {},
   "outputs": [
    {
     "name": "stdout",
     "output_type": "stream",
     "text": [
      "+------+-------+------+\n",
      "|UserID|MovieID|Rating|\n",
      "+------+-------+------+\n",
      "|    30|    592|   5.0|\n",
      "|   192|     31|   3.0|\n",
      "|   470|   6807|   4.5|\n",
      "|   564|    595|   5.0|\n",
      "|   655|    455|   1.0|\n",
      "+------+-------+------+\n",
      "only showing top 5 rows\n",
      "\n",
      "root\n",
      " |-- UserID: integer (nullable = true)\n",
      " |-- MovieID: integer (nullable = true)\n",
      " |-- Rating: double (nullable = true)\n",
      "\n"
     ]
    }
   ],
   "source": [
    "def readData():\n",
    "    path = '/Users/mundanemohit/Google Drive/My Work/MSc. Data Analytics/3114 Distributed Data Analytics/Excercises/Ex09/ml-10M100K/'\n",
    "\n",
    "    # Read Data\n",
    "    ratingDF = spark.read.csv(path + 'ratings.dat', sep=':')\n",
    "    ratingDF = ratingDF.drop('_c1', '_c3', '_c5')\n",
    "    ratingDF = ratingDF.selectExpr('_c0 as UserID', '_c2 as MovieID', '_c4 as Rating')\n",
    "    ratingDF = ratingDF.withColumn('UserID', col('UserID').cast(\"int\"))             \\\n",
    "                       .withColumn('MovieID', col('MovieID').cast(\"int\"))           \\\n",
    "                       .withColumn('Rating', col('Rating').cast(\"double\"))\n",
    "    ratingDF = ratingDF.distinct()\n",
    "    ratingDF = ratingDF.sample(0.01).cache()\n",
    "    userDF = ratingDF.select('UserID').distinct().count()\n",
    "    movieDF = ratingDF.select('MovieID').distinct().count() \n",
    "    ratingDF.show(5)\n",
    "    ratingDF.printSchema()\n",
    "    return ratingDF, userDF, movieDF\n",
    "\n",
    "ratingDF, nU, nV = readData()"
   ]
  },
  {
   "cell_type": "markdown",
   "metadata": {},
   "source": [
    "### Step 3: Training\n",
    "\n",
    "To break down the training step, we create a class which takes the following input parameters:\n",
    "\n",
    "* **R**: The user-item rating matrix\n",
    "2. **Rank**: No. of latent dimensions\n",
    "3.    **Alpha**: Learning Rate\n",
    "4.    **Reg**: Regularization parameter\n",
    "5.    **Iter**: No. of iterations\n",
    "\n",
    "Here's the breakdown of training process:\n",
    "\n",
    "+ Initialize matrices U & V with random values.\n",
    "\n",
    "+ For each iteration:\n",
    "    * Perform SGD update on all partitions where, \n",
    "        - error = actual - predicted\n",
    "        - delta U = alpha x e x V \n",
    "        - regularization term = alpha x reg x U\n",
    "        - U_NEW = U + delta U - regularization term    \n",
    "        - V_NEW = V + delta V - regularization term\n",
    "      Take avg. of U_NEW and V_NEW\n",
    "Calculate RMSE.\n"
   ]
  },
  {
   "cell_type": "code",
   "execution_count": 11,
   "metadata": {},
   "outputs": [],
   "source": [
    "import numpy as np\n",
    "\n",
    "class MF():\n",
    "\n",
    "    def __init__(self, R, U, V, rank, alpha, reg, iter):\n",
    "        \"\"\"\n",
    "        Perform matrix factorization to predict empty\n",
    "        entries in a matrix.\n",
    "\n",
    "        Arguments\n",
    "        - R            : user-item rating matrix\n",
    "        - rank          : number of features\n",
    "        - alpha (float) : learning rate\n",
    "        - reg (float)   : regularization parameter\n",
    "        - iter          : Number of iterations\n",
    "        \"\"\"\n",
    "        self.R = R.repartition(4).persist()\n",
    "        self.users = U\n",
    "        self.movies = V\n",
    "        self.rank = rank\n",
    "        self.alpha = alpha\n",
    "        self.reg = reg\n",
    "        self.iter = iter\n",
    "        print('Num Partitions: ', self.R.rdd.getNumPartitions())\n",
    "\n",
    "    def train(self):\n",
    "        # Initialize U & V based on no. of features rank\n",
    "        matU = np.random.uniform(size = (self.users , self.rank))\n",
    "        #matU = self.randomFeatures(self.users)\n",
    "        matV = np.random.uniform(size = (self.movies , self.rank))\n",
    "        # matV = self.randomFeatures(self.movies)\n",
    "        # For each iteration perform sgd and report scores\n",
    "        train_scores = []\n",
    "        for i in range(self.iter):\n",
    "            self.sgd()\n",
    "            rmse = self.rmse()\n",
    "            train_scores.append((i, rmse))\n",
    "            if (i+1) % 5 == 0:\n",
    "                print(\"Iteration: %d ; error = %.4f\" % (i+1, rmse))\n",
    "                \n",
    "    def rmse(self):\n",
    "        \"\"\"\n",
    "        A function to compute the total mean square error\n",
    "        \"\"\"\n",
    "        xs, ys = self.R.nonzero()\n",
    "        predicted = self.full_matrix()\n",
    "        error = 0\n",
    "        for x, y in zip(xs, ys):\n",
    "            error += pow(self.R[x, y] - predicted[x, y], 2)\n",
    "        return np.sqrt(error)\n",
    "\n",
    "    def sgd(self):\n",
    "        # Perform stochastic graident descent\n",
    "        for i, j, r in self.partitions:\n",
    "            # Computer prediction and error\n",
    "            prediction = self.get_rating(i, j)\n",
    "            e = (r - prediction)\n",
    "            \n",
    "            # Update user and item latent feature matrices\n",
    "            self.U[i, :] += self.alpha * (e * self.V[j, :] - self.reg * self.U[i,:])\n",
    "            self.V[j, :] += self.alpha * (e * self.U[i, :] - self.reg * self.V[j,:])\n",
    "\n",
    "    def get_rating(self, i, j):\n",
    "        # Get the predicted rating of user i and item j\n",
    "        prediction = self.U[i, :].dot(self.V[j, :].T) #+ self.b + self.b_u[i] + self.b_i[j] + \n",
    "                    \n",
    "        return prediction\n",
    "\n",
    "    def full_matrix(self):\n",
    "        # Multiply and return full matrix\n",
    "        return self.matU.dot(self.matV.T)"
   ]
  },
  {
   "cell_type": "code",
   "execution_count": null,
   "metadata": {},
   "outputs": [],
   "source": [
    "mf = MF(ratingDF, nU, nV, rank = 5, alpha = 0.001, reg = 0.001, iter = 20)\n",
    "mf.train()"
   ]
  },
  {
   "attachments": {
    "image.png": {
     "image/png": "[encoded data removed]"
    }
   },
   "cell_type": "markdown",
   "metadata": {},
   "source": [
    "\n",
    "Num Partitions: 4 \n",
    "\n",
    "Iteration: 5 ; error = 0..862\n",
    "\n",
    "Iteration: 10 ; error = 0.834\n",
    "\n",
    "Iteration: 15 ; error = 0.812\n",
    "\n",
    "Iteration: 20 ; error = 0.8041\n",
    "\n",
    "![image.png](attachment:image.png)"
   ]
  },
  {
   "cell_type": "markdown",
   "metadata": {},
   "source": [
    "### Excercise 2: Recommender System using Apache Spark MLLIB ( 10 points)"
   ]
  },
  {
   "cell_type": "markdown",
   "metadata": {},
   "source": [
    "#### Step 1: Libraries\n",
    "\n",
    "We will need a few additional libraries for building the recommender system using mllib\n",
    "\n",
    "1. ALS - Alternative Least Squares (ALS) with Weight Regularization algorithm for collaboritive filtering\n",
    "2. RegressionEvaluator - For evaluation of the output\n",
    "3. CrossValidator - For cross-validation"
   ]
  },
  {
   "cell_type": "code",
   "execution_count": 1,
   "metadata": {},
   "outputs": [],
   "source": [
    "#!/usr/bin/env python3\n",
    "# -*- coding: utf-8 -*-\n",
    "\"\"\"\n",
    "Created on Thu Jul 12 13:44:50 2018\n",
    "\n",
    "@author: mundanemohit\n",
    "\"\"\"\n",
    "\n",
    "from pyspark.sql import SparkSession\n",
    "#from pyspark.mllib.recommendation import ALS, MatrixFactorizationModel, Rating\n",
    "from pyspark.ml.recommendation import ALS\n",
    "from pyspark.sql.functions import col\n",
    "from pyspark.ml.evaluation import RegressionEvaluator\n",
    "from pyspark.ml.tuning import CrossValidator"
   ]
  },
  {
   "cell_type": "markdown",
   "metadata": {},
   "source": [
    "#### Step 2: Load data\n",
    "\n",
    "We will use movieLens 10M dataset. We will use the rating dataset for this excercise.\n",
    "Since we don't need timestamp, it will be removed."
   ]
  },
  {
   "cell_type": "code",
   "execution_count": 2,
   "metadata": {},
   "outputs": [
    {
     "name": "stdout",
     "output_type": "stream",
     "text": [
      "+------+-------+------+\n",
      "|UserID|MovieID|Rating|\n",
      "+------+-------+------+\n",
      "|     3|   5505|   2.0|\n",
      "|     4|    208|   3.0|\n",
      "|     7|   1283|   4.5|\n",
      "|     7|   4206|   3.0|\n",
      "|     8|   2194|   2.5|\n",
      "+------+-------+------+\n",
      "only showing top 5 rows\n",
      "\n",
      "root\n",
      " |-- UserID: integer (nullable = true)\n",
      " |-- MovieID: integer (nullable = true)\n",
      " |-- Rating: double (nullable = true)\n",
      "\n"
     ]
    }
   ],
   "source": [
    "path = '/Users/mundanemohit/Google Drive/My Work/MSc. Data Analytics/3114 Distributed Data Analytics/Excercises/Ex09/ml-10M100K/'\n",
    "\n",
    "# Create a spark session\n",
    "spark = SparkSession \\\n",
    " .builder \\\n",
    " .appName(\"Python Spark - Testing the Waters\") \\\n",
    " .config(\"spark.some.config.option\", \"some-value\") \\\n",
    " .getOrCreate()\n",
    " \n",
    "sc = spark.sparkContext\n",
    "\n",
    "# Read Data\n",
    "ratingDF = spark.read.csv(path + 'ratings.dat', sep=':')\n",
    "ratingDF = ratingDF.drop('_c1', '_c3', '_c5')\n",
    "ratingDF = ratingDF.selectExpr('_c0 as UserID', '_c2 as MovieID', '_c4 as Rating')\n",
    "ratingDF = ratingDF.withColumn('UserID', col('UserID').cast(\"int\"))             \\\n",
    "                   .withColumn('MovieID', col('MovieID').cast(\"int\"))           \\\n",
    "                   .withColumn('Rating', col('Rating').cast(\"double\"))\n",
    "ratingDF = ratingDF.distinct().cache()\n",
    "ratingDF.show(5)\n",
    "ratingDF.printSchema()"
   ]
  },
  {
   "cell_type": "markdown",
   "metadata": {},
   "source": [
    "#### Step 3: Model building \n",
    "\n",
    "We will use 3-fold validation with 10 iterations and regularization parameter of 0.05. \n",
    "\n",
    "We will use 5, 10 and 15 factors respectively for each fold."
   ]
  },
  {
   "cell_type": "code",
   "execution_count": 4,
   "metadata": {},
   "outputs": [],
   "source": [
    "# Create model with base parameters\n",
    "als = ALS(maxIter=10, regParam=0.05, seed = 0,\n",
    "          userCol=\"UserID\", itemCol=\"MovieID\", \n",
    "          ratingCol=\"Rating\")\n",
    "\n",
    "# Create an RMSE Evaluator\n",
    "evaluator = RegressionEvaluator(predictionCol=\"raw\", metricName=\"rmse\")\n",
    "\n",
    "# Set ranks for 3-fold validation\n",
    "ranks = [5, 10, 15]"
   ]
  },
  {
   "cell_type": "markdown",
   "metadata": {},
   "source": [
    "#### Step 4: Evaluation on test set"
   ]
  },
  {
   "cell_type": "code",
   "execution_count": 6,
   "metadata": {},
   "outputs": [
    {
     "name": "stdout",
     "output_type": "stream",
     "text": [
      "Error for train-set fold  0 with  5 factors:  0.7771832360827918\n",
      "Error for test-set fold  0 with  5 factors:  0.8176801987030271\n",
      "Error for train-set fold  1 with  10 factors:  0.7343242105206774\n",
      "Error for test-set fold  1 with  10 factors:  0.8026339992712814\n",
      "Error for train-set fold  2 with  15 factors:  0.7161747845953671\n",
      "Error for test-set fold  2 with  15 factors:  0.8046366017374674\n"
     ]
    }
   ],
   "source": [
    "for i in range(0, len(ranks)):\n",
    "    # Set rank\n",
    "    als.setRank(ranks[i])\n",
    "    # Split into train and test\n",
    "    X_train, X_test = ratingDF.randomSplit([0.70, 0.30])\n",
    "    # Fit model\n",
    "    model = als.fit(X_train)    \n",
    "    \n",
    "    # Prediction on train set\n",
    "    predictions = model.transform(X_train.select([\"UserID\", \"MovieID\"]))\n",
    "\n",
    "    # Join to original dataset\n",
    "    ratesAndPreds = X_train.join(predictions, \n",
    "                                (X_train.UserID == predictions.UserID) \n",
    "                              & (X_train.MovieID == predictions.MovieID),\n",
    "                                how='inner')                            \\\n",
    "                          .select(X_train.Rating, predictions.prediction)\n",
    "    # renaming the columns as raw and label\n",
    "    ratesAndPreds = ratesAndPreds.select([col(\"Rating\").alias(\"label\"),col('prediction').alias(\"raw\")])\n",
    "    #ratesAndPreds = ratesAndPreds.withColumn(\"label\", ratesAndPreds[\"label\"].cast(\"float\"))\n",
    "    ratesAndPreds = ratesAndPreds.filter(ratesAndPreds.raw != float('nan')).cache()\n",
    "               \n",
    "    # calculate the error\n",
    "    err = evaluator.evaluate(ratesAndPreds, {evaluator.metricName: \"rmse\"})\n",
    "    print(\"Error for train-set fold \", i, \"with \", ranks[i], 'factors: ', err)\n",
    "    \n",
    "    \n",
    "    # Prediction on test set\n",
    "    predictions = model.transform(X_test.select([\"UserID\", \"MovieID\"]))\n",
    "\n",
    "    # Join to original dataset\n",
    "    ratesAndPreds = X_test.join(predictions, \n",
    "                                (X_test.UserID == predictions.UserID) \n",
    "                              & (X_test.MovieID == predictions.MovieID),\n",
    "                                how='inner')                            \\\n",
    "                          .select(X_test.Rating, predictions.prediction)\n",
    "    # renaming the columns as raw and label\n",
    "    ratesAndPreds = ratesAndPreds.select([col(\"Rating\").alias(\"label\"),col('prediction').alias(\"raw\")])\n",
    "    #ratesAndPreds = ratesAndPreds.withColumn(\"label\", ratesAndPreds[\"label\"].cast(\"float\"))\n",
    "    ratesAndPreds = ratesAndPreds.filter(ratesAndPreds.raw != float('nan')).cache()\n",
    "               \n",
    "    # calculate the error\n",
    "    err = evaluator.evaluate(ratesAndPreds, {evaluator.metricName: \"rmse\"})\n",
    "    print(\"Error for test-set fold \", i, \"with \", ranks[i], 'factors: ', err)"
   ]
  },
  {
   "cell_type": "markdown",
   "metadata": {},
   "source": [
    "Here's a comparison of results:\n",
    "\n",
    "|Test Case           | # Factors | Iterations | Test RMSE | Train RMSE |\n",
    "|--------------------|:---------:|:----------:|:---------:|:-----------|\n",
    "|Movielens 1M (5-Fold) |10 |75|0.857| - |\n",
    "|Fold 1 (3-Fold)       |5  |10|0.818|0.777|\n",
    "|Fold 2 (3-Fold)       |10  |10|0.803|0.734|\n",
    "|Fold 3 (3-Fold)       |15  |10|0.805|0.716|"
   ]
  }
 ],
 "metadata": {
  "kernelspec": {
   "display_name": "Python 3",
   "language": "python",
   "name": "python3"
  },
  "language_info": {
   "codemirror_mode": {
    "name": "ipython",
    "version": 3
   },
   "file_extension": ".py",
   "mimetype": "text/x-python",
   "name": "python",
   "nbconvert_exporter": "python",
   "pygments_lexer": "ipython3",
   "version": "3.6.4"
  }
 },
 "nbformat": 4,
 "nbformat_minor": 2
}
